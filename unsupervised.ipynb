{
 "cells": [
  {
   "cell_type": "markdown",
   "id": "dcba074c",
   "metadata": {},
   "source": [
    "# Airbus Uçak Görüntüleri: Gözetimsiz Öğrenme (Unsupervised Learning)\n",
    "\n",
    "Bu notebook, Airbus uçak görüntüleri üzerinde gözetimsiz öğrenme yöntemleriyle analiz ve kümeleme işlemlerini kapsamaktadır. Her adımda Türkçe açıklamalar ve kodlar yer almaktadır."
   ]
  },
  {
   "cell_type": "markdown",
   "id": "892be2e3",
   "metadata": {},
   "source": [
    "---\n",
    "\n",
    "Bu notebookta aşağıdaki ana başlıklar ve adımlar yer almaktadır:\n",
    "\n",
    "1. Gerekli Kütüphanelerin Yüklenmesi\n",
    "2. Veri Önişleme ve Görselleştirme (Unsupervised)\n",
    "3. Veri Ölçekleme\n",
    "4. Temel PCA ile Boyut İndirgeme ve Görselleştirme\n",
    "5. K-Means Kümeleme ile Sınıflandırma\n",
    "6. Kümeleme Sonuçlarının Görselleştirilmesi\n",
    "7. Kümeleme Sonuçlarının Değerlendirilmesi (Silhouette Score, vs.)\n",
    "8. Farklı Kümeleme Algoritmalarının Karşılaştırılması (Opsiyonel)\n",
    "\n",
    "Her bölümün başında kısa açıklamalar ve kod blokları ile ilerleyebilirsiniz."
   ]
  },
  {
   "cell_type": "markdown",
   "id": "7ada5622",
   "metadata": {},
   "source": [
    "## 1. Gerekli Kütüphanelerin Yüklenmesi\n",
    "\n",
    "NumPy, pandas, matplotlib, scikit-learn ve görselleştirme için gerekli diğer kütüphaneler yüklenir."
   ]
  },
  {
   "cell_type": "code",
   "execution_count": null,
   "id": "b320c4c9",
   "metadata": {},
   "outputs": [],
   "source": [
    "import os\n",
    "import cv2\n",
    "import numpy as np\n",
    "import matplotlib.pyplot as plt\n",
    "import pandas as pd\n",
    "from sklearn.preprocessing import StandardScaler, MinMaxScaler\n",
    "from sklearn.decomposition import PCA\n",
    "from sklearn.cluster import KMeans, AgglomerativeClustering, DBSCAN\n",
    "from sklearn.metrics import silhouette_score, davies_bouldin_score"
   ]
  },
  {
   "cell_type": "markdown",
   "id": "f24834db",
   "metadata": {},
   "source": [
    "## 2. Veri Önişleme ve Görselleştirme (Unsupervised)\n",
    "\n",
    "Görüntüler etiket olmadan yüklenir, yeniden boyutlandırılır ve örnek görseller gösterilir."
   ]
  },
  {
   "cell_type": "code",
   "execution_count": null,
   "id": "0d49aa89",
   "metadata": {},
   "outputs": [],
   "source": [
    "# Görüntülerin yüklenmesi ve hazırlanması (etiketsiz)\n",
    "veri_dizini = \"Airbus/aircraft/detection dataset\"\n",
    "gorseller = []\n",
    "for sinif_adi in os.listdir(veri_dizini):\n",
    "    sinif_klasoru = os.path.join(veri_dizini, sinif_adi)\n",
    "    for dosya_adi in os.listdir(sinif_klasoru):\n",
    "        yol = os.path.join(sinif_klasoru, dosya_adi)\n",
    "        img = cv2.imread(yol)\n",
    "        if img is not None:\n",
    "            img = cv2.cvtColor(img, cv2.COLOR_BGR2RGB)\n",
    "            img = cv2.resize(img, (64, 64))  # Daha hızlı işlem için küçük boyut\n",
    "            gorseller.append(img)\n",
    "gorseller = np.array(gorseller)\n",
    "\n",
    "# Örnek görselleri göster\n",
    "fig, axes = plt.subplots(1, 5, figsize=(15,3))\n",
    "for i in range(5):\n",
    "    axes[i].imshow(gorseller[i])\n",
    "    axes[i].axis('off')\n",
    "plt.suptitle(\"Örnek Görseller (Etiketsiz)\")\n",
    "plt.show()"
   ]
  },
  {
   "cell_type": "markdown",
   "id": "3acd5e4e",
   "metadata": {},
   "source": [
    "## 3. Veri Ölçekleme\n",
    "\n",
    "Görüntü verileri MinMaxScaler veya StandardScaler ile ölçeklenir. Bu adım, kümeleme ve boyut indirgeme algoritmalarının daha iyi çalışmasını sağlar."
   ]
  },
  {
   "cell_type": "code",
   "execution_count": null,
   "id": "449749a8",
   "metadata": {},
   "outputs": [],
   "source": [
    "# Görüntüleri vektör haline getir ve ölçekle\n",
    "gorseller_vektor = gorseller.reshape(gorseller.shape[0], -1)\n",
    "scaler = StandardScaler()\n",
    "gorseller_scaled = scaler.fit_transform(gorseller_vektor)\n",
    "print(f\"Ölçeklenmiş veri boyutu: {gorseller_scaled.shape}\")"
   ]
  },
  {
   "cell_type": "markdown",
   "id": "fb1ebe2f",
   "metadata": {},
   "source": [
    "## 4. Temel PCA ile Boyut İndirgeme ve Görselleştirme\n",
    "\n",
    "PCA ile veri 2 boyuta indirgenir ve scatter plot ile görselleştirilir."
   ]
  },
  {
   "cell_type": "code",
   "execution_count": null,
   "id": "5e5d8fee",
   "metadata": {},
   "outputs": [],
   "source": [
    "# PCA ile 2 boyuta indirgeme\n",
    "pca = PCA(n_components=2)\n",
    "gorseller_pca = pca.fit_transform(gorseller_scaled)\n",
    "\n",
    "plt.figure(figsize=(8,6))\n",
    "plt.scatter(gorseller_pca[:,0], gorseller_pca[:,1], alpha=0.5)\n",
    "plt.title(\"PCA ile 2D Görselleştirme (Etiketsiz)\")\n",
    "plt.xlabel(\"PCA 1\")\n",
    "plt.ylabel(\"PCA 2\")\n",
    "plt.show()"
   ]
  },
  {
   "cell_type": "markdown",
   "id": "cf61822f",
   "metadata": {},
   "source": [
    "## 5. K-Means Kümeleme ile Sınıflandırma\n",
    "\n",
    "KMeans algoritması ile görüntüler kümelere ayrılır ve küme etiketleri elde edilir."
   ]
  },
  {
   "cell_type": "code",
   "execution_count": null,
   "id": "118e28dc",
   "metadata": {},
   "outputs": [],
   "source": [
    "# KMeans ile kümeleme (ör: 3 küme)\n",
    "kume_sayisi = 3\n",
    "kmeans = KMeans(n_clusters=kume_sayisi, random_state=42)\n",
    "kume_etiketleri = kmeans.fit_predict(gorseller_scaled)\n",
    "print(f\"Küme etiketleri: {np.unique(kume_etiketleri)}\")"
   ]
  },
  {
   "cell_type": "markdown",
   "id": "212b6cf4",
   "metadata": {},
   "source": [
    "## 6. Kümeleme Sonuçlarının Görselleştirilmesi\n",
    "\n",
    "Küme etiketlerine göre PCA ile indirgenmiş verinin scatter plot ile görselleştirilmesi."
   ]
  },
  {
   "cell_type": "code",
   "execution_count": null,
   "id": "bc65210c",
   "metadata": {},
   "outputs": [],
   "source": [
    "# Kümeleme sonuçlarının PCA düzleminde görselleştirilmesi\n",
    "plt.figure(figsize=(8,6))\n",
    "for k in np.unique(kume_etiketleri):\n",
    "    plt.scatter(gorseller_pca[kume_etiketleri==k,0], gorseller_pca[kume_etiketleri==k,1], label=f'Küme {k}')\n",
    "plt.title(\"KMeans Kümeleme Sonuçları (PCA 2D)\")\n",
    "plt.xlabel(\"PCA 1\")\n",
    "plt.ylabel(\"PCA 2\")\n",
    "plt.legend()\n",
    "plt.show()"
   ]
  },
  {
   "cell_type": "markdown",
   "id": "609f3946",
   "metadata": {},
   "source": [
    "## 7. Kümeleme Sonuçlarının Değerlendirilmesi (Silhouette Score, vs.)\n",
    "\n",
    "Silhouette Score ve Davies-Bouldin Index gibi metriklerle kümeleme başarısı değerlendirilir."
   ]
  },
  {
   "cell_type": "code",
   "execution_count": null,
   "id": "0415f5ae",
   "metadata": {},
   "outputs": [],
   "source": [
    "# Kümeleme başarısı metrikleri\n",
    "sil_score = silhouette_score(gorseller_scaled, kume_etiketleri)\n",
    "db_score = davies_bouldin_score(gorseller_scaled, kume_etiketleri)\n",
    "print(f\"Silhouette Score: {sil_score:.3f}\")\n",
    "print(f\"Davies-Bouldin Index: {db_score:.3f}\")"
   ]
  },
  {
   "cell_type": "markdown",
   "id": "87a274bb",
   "metadata": {},
   "source": [
    "## 8. Farklı Kümeleme Algoritmalarının Karşılaştırılması (Opsiyonel)\n",
    "\n",
    "Agglomerative Clustering ve DBSCAN gibi alternatif algoritmalarla sonuçlar karşılaştırılır ve görselleştirilir."
   ]
  },
  {
   "cell_type": "code",
   "execution_count": null,
   "id": "4b1c6c3d",
   "metadata": {},
   "outputs": [],
   "source": [
    "# Agglomerative Clustering\n",
    "agg = AgglomerativeClustering(n_clusters=kume_sayisi)\n",
    "agg_labels = agg.fit_predict(gorseller_scaled)\n",
    "\n",
    "plt.figure(figsize=(8,6))\n",
    "for k in np.unique(agg_labels):\n",
    "    plt.scatter(gorseller_pca[agg_labels==k,0], gorseller_pca[agg_labels==k,1], label=f'Agglo Küme {k}')\n",
    "plt.title(\"Agglomerative Clustering Sonuçları (PCA 2D)\")\n",
    "plt.xlabel(\"PCA 1\")\n",
    "plt.ylabel(\"PCA 2\")\n",
    "plt.legend()\n",
    "plt.show()\n",
    "\n",
    "# DBSCAN\n",
    "dbscan = DBSCAN(eps=5, min_samples=5)\n",
    "db_labels = dbscan.fit_predict(gorseller_scaled)\n",
    "\n",
    "plt.figure(figsize=(8,6))\n",
    "for k in np.unique(db_labels):\n",
    "    plt.scatter(gorseller_pca[db_labels==k,0], gorseller_pca[db_labels==k,1], label=f'DBSCAN Küme {k}')\n",
    "plt.title(\"DBSCAN Sonuçları (PCA 2D)\")\n",
    "plt.xlabel(\"PCA 1\")\n",
    "plt.ylabel(\"PCA 2\")\n",
    "plt.legend()\n",
    "plt.show()"
   ]
  },
  {
   "cell_type": "markdown",
   "id": "515fa4de",
   "metadata": {},
   "source": []
  }
 ],
 "metadata": {
  "language_info": {
   "name": "python"
  }
 },
 "nbformat": 4,
 "nbformat_minor": 5
}
