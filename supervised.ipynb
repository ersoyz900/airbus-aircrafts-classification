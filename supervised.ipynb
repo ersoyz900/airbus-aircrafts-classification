{
 "cells": [
  {
   "cell_type": "markdown",
   "id": "f31bc1cc",
   "metadata": {},
   "source": [
    "# Airbus Uçak Sınıflandırma Projesi\n",
    "\n",
    "Bu notebook, uçak görüntülerinin sınıflandırılması için veri önişleme, veri artırma, model oluşturma, değerlendirme, Grad-CAM ve hiperparametre optimizasyonu adımlarını içermektedir. Her adımda açıklamalar ve kodlar Türkçe olarak sunulmuştur."
   ]
  },
  {
   "cell_type": "markdown",
   "id": "a49d888c",
   "metadata": {},
   "source": [
    "---\n",
    "\n",
    "Bu notebookta aşağıdaki ana başlıklar ve adımlar yer almaktadır:\n",
    "\n",
    "1. **Veri Önişleme ve Görselleştirme**: Görüntülerin hazırlanması, etiketlenmesi, eğitim/doğrulama/test ayrımı ve veri analizi.\n",
    "2. **Data Augmentation (Veri Çoğaltma)**: Görüntülerin çeşitli dönüşümlerle artırılması.\n",
    "3. **CNN Modeli Oluşturma ve Eğitme**: Derin öğrenme tabanlı modelin kurulması ve eğitilmesi.\n",
    "4. **Model Değerlendirme**: Başarım metrikleri, confusion matrix ve raporlar.\n",
    "5. **Grad-CAM ile Görselleştirme**: Modelin odaklandığı bölgelerin görselleştirilmesi.\n",
    "6. **Hiperparametre Optimizasyonu**: Model parametrelerinin otomatik olarak ayarlanması.\n",
    "7. **Overfitting/Underfitting Analizi**: Modelin aşırı/az öğrenme durumlarının analizi.\n",
    "\n",
    "Her bölümün başında kısa açıklamalar ve kod blokları ile ilerleyebilirsiniz."
   ]
  },
  {
   "cell_type": "markdown",
   "id": "236fc963",
   "metadata": {},
   "source": [
    "## 1. Veri Önişleme ve Görselleştirme\n",
    "\n",
    "- Görüntülerin uygun formata dönüştürülmesi (224x224, RGB)\n",
    "- Etiketleme ve temizleme\n",
    "- Eğitim/Doğrulama/Test ayrımı\n",
    "- Sınıf dağılımı ve örnek görsellerin görselleştirilmesi"
   ]
  },
  {
   "cell_type": "code",
   "execution_count": null,
   "id": "fd567068",
   "metadata": {},
   "outputs": [],
   "source": [
    "import os\n",
    "import cv2\n",
    "import numpy as np\n",
    "import matplotlib.pyplot as plt\n",
    "from sklearn.model_selection import train_test_split\n",
    "\n",
    "# Veri dizini ve sınıf isimleri\n",
    "veri_dizini = \"Airbus/aircraft/detection dataset\"\n",
    "siniflar = sorted(os.listdir(veri_dizini))\n",
    "gorseller, etiketler = [], []\n",
    "\n",
    "# Görüntüleri yükle ve etiketle\n",
    "for etiket, sinif_adi in enumerate(siniflar):\n",
    "    sinif_klasoru = os.path.join(veri_dizini, sinif_adi)\n",
    "    for dosya_adi in os.listdir(sinif_klasoru):\n",
    "        yol = os.path.join(sinif_klasoru, dosya_adi)\n",
    "        img = cv2.imread(yol)\n",
    "        if img is not None:\n",
    "            img = cv2.cvtColor(img, cv2.COLOR_BGR2RGB)\n",
    "            img = cv2.resize(img, (224, 224))\n",
    "            gorseller.append(img)\n",
    "            etiketler.append(etiket)\n",
    "\n",
    "gorseller = np.array(gorseller)\n",
    "etiketler = np.array(etiketler)\n",
    "\n",
    "# Eğitim/Doğrulama/Test ayrımı\n",
    "X_train, X_temp, y_train, y_temp = train_test_split(gorseller, etiketler, test_size=0.3, stratify=etiketler, random_state=42)\n",
    "X_val, X_test, y_val, y_test = train_test_split(X_temp, y_temp, test_size=0.5, stratify=y_temp, random_state=42)\n",
    "\n",
    "# Sınıf dağılımı görselleştirme\n",
    "plt.figure(figsize=(8,4))\n",
    "plt.hist(etiketler, bins=len(siniflar), rwidth=0.8)\n",
    "plt.title(\"Sınıf Dağılımı\")\n",
    "plt.xlabel(\"Sınıf\")\n",
    "plt.ylabel(\"Adet\")\n",
    "plt.xticks(np.arange(len(siniflar)), siniflar, rotation=45)\n",
    "plt.show()"
   ]
  },
  {
   "cell_type": "code",
   "execution_count": null,
   "id": "b3593b01",
   "metadata": {},
   "outputs": [],
   "source": [
    "# Eğitim setinden rastgele 5 örnek görsel gösterelim\n",
    "deneme_indeksler = np.random.choice(len(X_train), 5, replace=False)\n",
    "fig, axes = plt.subplots(1, 5, figsize=(15,3))\n",
    "for i, idx in enumerate(deneme_indeksler):\n",
    "    axes[i].imshow(X_train[idx])\n",
    "    axes[i].set_title(f\"Sınıf: {siniflar[y_train[idx]]}\")\n",
    "    axes[i].axis('off')\n",
    "plt.suptitle(\"Örnek Eğitim Görselleri\")\n",
    "plt.show()"
   ]
  },
  {
   "cell_type": "markdown",
   "id": "aa305e3b",
   "metadata": {},
   "source": [
    "## 2. Data Augmentation (Veri Çoğaltma)\n",
    "\n",
    "Veri artırma ile modelin genelleme başarısı artırılır. Keras ImageDataGenerator ile örnek dönüşümler: Rotation, Flip, Zoom, Brightness."
   ]
  },
  {
   "cell_type": "code",
   "execution_count": null,
   "id": "8434151b",
   "metadata": {},
   "outputs": [],
   "source": [
    "from tensorflow.keras.preprocessing.image import ImageDataGenerator\n",
    "\n",
    "datagen = ImageDataGenerator(\n",
    "    rotation_range=20,\n",
    "    width_shift_range=0.1,\n",
    "    height_shift_range=0.1,\n",
    "    zoom_range=0.2,\n",
    "    horizontal_flip=True,\n",
    "    brightness_range=[0.8,1.2]\n",
    ")\n",
    "\n",
    "# Augmentation örneklerini görselleştir\n",
    "ornek = X_train[0].reshape((1,)+X_train[0].shape)\n",
    "fig, axes = plt.subplots(1, 5, figsize=(15,3))\n",
    "i = 0\n",
    "for batch in datagen.flow(ornek, batch_size=1):\n",
    "    axes[i].imshow(batch[0].astype('uint8'))\n",
    "    axes[i].axis('off')\n",
    "    i += 1\n",
    "    if i == 5:\n",
    "        break\n",
    "plt.suptitle(\"Augmentation Örnekleri\")\n",
    "plt.show()"
   ]
  },
  {
   "cell_type": "markdown",
   "id": "3bf2d770",
   "metadata": {},
   "source": [
    "## 3. CNN Modeli Oluşturma ve Eğitme\n",
    "\n",
    "Aşağıda, Keras ile temel bir CNN modeli oluşturulmakta ve eğitim/validasyon setleriyle eğitilmektedir. Modelde Conv2D, MaxPooling2D, Dropout ve Dense katmanları kullanılmıştır."
   ]
  },
  {
   "cell_type": "code",
   "execution_count": null,
   "id": "16f13fc9",
   "metadata": {},
   "outputs": [],
   "source": [
    "from tensorflow.keras.models import Sequential\n",
    "from tensorflow.keras.layers import Conv2D, MaxPooling2D, Dropout, Flatten, Dense\n",
    "\n",
    "model = Sequential([\n",
    "    Conv2D(32, (3,3), activation='relu', input_shape=(224,224,3)),\n",
    "    MaxPooling2D(2,2),\n",
    "    Dropout(0.25),\n",
    "    Conv2D(64, (3,3), activation='relu'),\n",
    "    MaxPooling2D(2,2),\n",
    "    Dropout(0.25),\n",
    "    Flatten(),\n",
    "    Dense(128, activation='relu'),\n",
    "    Dropout(0.5),\n",
    "    Dense(len(siniflar), activation='softmax')\n",
    "])\n",
    "\n",
    "model.compile(optimizer='adam', loss='sparse_categorical_crossentropy', metrics=['accuracy'])\n",
    "\n",
    "history = model.fit(\n",
    "    X_train, y_train,\n",
    "    epochs=15,\n",
    "    batch_size=32,\n",
    "    validation_data=(X_val, y_val)\n",
    ")"
   ]
  },
  {
   "cell_type": "markdown",
   "id": "db197546",
   "metadata": {},
   "source": [
    "## 4. Model Değerlendirme\n",
    "\n",
    "- Accuracy ve Loss grafikleri (epoch bazında)\n",
    "- Confusion Matrix ve Classification Report\n",
    "- Sınıflandırma başarımını detaylı analiz edin"
   ]
  },
  {
   "cell_type": "code",
   "execution_count": null,
   "id": "b92eba7b",
   "metadata": {},
   "outputs": [],
   "source": [
    "import seaborn as sns\n",
    "from sklearn.metrics import confusion_matrix, classification_report\n",
    "\n",
    "# Accuracy ve Loss grafikleri\n",
    "plt.figure(figsize=(12,5))\n",
    "plt.subplot(1,2,1)\n",
    "plt.plot(history.history['accuracy'], label='Eğitim')\n",
    "plt.plot(history.history['val_accuracy'], label='Doğrulama')\n",
    "plt.title('Doğruluk (Accuracy)')\n",
    "plt.legend()\n",
    "plt.subplot(1,2,2)\n",
    "plt.plot(history.history['loss'], label='Eğitim')\n",
    "plt.plot(history.history['val_loss'], label='Doğrulama')\n",
    "plt.title('Kayıp (Loss)')\n",
    "plt.legend()\n",
    "plt.show()\n",
    "\n",
    "# Confusion Matrix ve Classification Report\n",
    "y_pred = model.predict(X_test).argmax(axis=1)\n",
    "cm = confusion_matrix(y_test, y_pred)\n",
    "sns.heatmap(cm, annot=True, fmt='d', xticklabels=siniflar, yticklabels=siniflar, cmap='Blues')\n",
    "plt.xlabel('Tahmin')\n",
    "plt.ylabel('Gerçek')\n",
    "plt.title('Confusion Matrix')\n",
    "plt.show()\n",
    "\n",
    "print(classification_report(y_test, y_pred, target_names=siniflar))"
   ]
  },
  {
   "cell_type": "markdown",
   "id": "8d24ab8a",
   "metadata": {},
   "source": [
    "## 5. Grad-CAM ile Görselleştirme\n",
    "\n",
    "Modelin hangi bölgelere odaklandığını gösteren Grad-CAM örneği. (tf-keras-vis veya benzeri kütüphane ile)"
   ]
  },
  {
   "cell_type": "code",
   "execution_count": null,
   "id": "99a442af",
   "metadata": {},
   "outputs": [],
   "source": [
    "# Grad-CAM için tf-keras-vis kullanılabilir. Kurulum: pip install tf-keras-vis\n",
    "from tf_keras_vis.gradcam import Gradcam\n",
    "from tf_keras_vis.utils.model_modifiers import ReplaceToLinear\n",
    "from tf_keras_vis.utils.scores import CategoricalScore\n",
    "import tensorflow as tf\n",
    "\n",
    "def model_modifier(m):\n",
    "    m.layers[-1].activation = tf.keras.activations.linear\n",
    "    return m\n",
    "\n",
    "gradcam = Gradcam(model, model_modifier=model_modifier)\n",
    "score = CategoricalScore([y_test[0]])\n",
    "cam = gradcam(score, X_test[0:1], penultimate_layer=-1)\n",
    "\n",
    "plt.imshow(X_test[0].astype('uint8'))\n",
    "plt.imshow(cam[0], cmap='jet', alpha=0.5)\n",
    "plt.title('Grad-CAM')\n",
    "plt.axis('off')\n",
    "plt.show()"
   ]
  },
  {
   "cell_type": "markdown",
   "id": "6f0f5f99",
   "metadata": {},
   "source": [
    "## 6. Hiperparametre Optimizasyonu\n",
    "\n",
    "Keras Tuner ile hiperparametre arama örneği. Katman sayısı, filtre sayısı, dropout oranı, dense boyutu gibi parametreler optimize edilebilir."
   ]
  },
  {
   "cell_type": "code",
   "execution_count": null,
   "id": "1a664920",
   "metadata": {},
   "outputs": [],
   "source": [
    "import keras_tuner as kt\n",
    "\n",
    "def build_model(hp):\n",
    "    model = Sequential()\n",
    "    model.add(Conv2D(hp.Int('filters', 32, 128, step=32), (3,3), activation='relu', input_shape=(224,224,3)))\n",
    "    model.add(MaxPooling2D(2,2))\n",
    "    model.add(Dropout(hp.Float('dropout', 0.2, 0.5, step=0.1)))\n",
    "    model.add(Flatten())\n",
    "    model.add(Dense(hp.Int('dense_units', 64, 256, step=64), activation='relu'))\n",
    "    model.add(Dense(len(siniflar), activation='softmax'))\n",
    "    model.compile(optimizer='adam', loss='sparse_categorical_crossentropy', metrics=['accuracy'])\n",
    "    return model\n",
    "\n",
    "tuner = kt.RandomSearch(build_model, objective='val_accuracy', max_trials=5)\n",
    "tuner.search(X_train, y_train, epochs=5, validation_data=(X_val, y_val))\n",
    "\n",
    "best_model = tuner.get_best_models(1)[0]"
   ]
  },
  {
   "cell_type": "markdown",
   "id": "c8e9e60d",
   "metadata": {},
   "source": [
    "## 7. Overfitting/Underfitting Analizi\n",
    "\n",
    "Eğitim ve doğrulama başarı/kayıp grafiklerini inceleyerek modelin aşırı öğrenme (overfitting) veya yetersiz öğrenme (underfitting) durumlarını tespit edebilirsiniz. Eğer eğitim başarısı yüksek, doğrulama başarısı düşükse model overfit olmuştur. Her iki başarı da düşükse underfit olabilir."
   ]
  },
  {
   "cell_type": "markdown",
   "id": "ea2339f2",
   "metadata": {},
   "source": [
    "Eğitim ve doğrulama başarı/kayıp grafiklerini inceleyerek modelin aşırı öğrenme (overfitting) veya yetersiz öğrenme (underfitting) durumlarını tespit edebilirsiniz. Eğer eğitim başarısı yüksek, doğrulama başarısı düşükse model overfit olmuştur. Her iki başarı da düşükse underfit olabilir."
   ]
  }
 ],
 "metadata": {
  "language_info": {
   "name": "python"
  }
 },
 "nbformat": 4,
 "nbformat_minor": 5
}
